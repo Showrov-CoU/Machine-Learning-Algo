{
 "cells": [
  {
   "cell_type": "code",
   "execution_count": 1,
   "id": "4d1bf305-23e6-4dad-9e1e-0af5fde855cf",
   "metadata": {},
   "outputs": [],
   "source": [
    "import numpy as np\n",
    "import matplotlib.pyplot as plt"
   ]
  },
  {
   "cell_type": "code",
   "execution_count": 2,
   "id": "c1b38d8c-774d-416d-bed4-9b0ea6ad9ef3",
   "metadata": {},
   "outputs": [],
   "source": [
    "data = np.array([[2, 4, 2], [2, 1, 3], [3, 1, 2], [4, 2, 2], [1, 3, 2]])"
   ]
  },
  {
   "cell_type": "code",
   "execution_count": 3,
   "id": "f3088b81-b95a-4fc6-8ec5-e86ff35baf3e",
   "metadata": {},
   "outputs": [
    {
     "data": {
      "text/plain": [
       "array([[2, 4, 2],\n",
       "       [2, 1, 3],\n",
       "       [3, 1, 2],\n",
       "       [4, 2, 2],\n",
       "       [1, 3, 2]])"
      ]
     },
     "execution_count": 3,
     "metadata": {},
     "output_type": "execute_result"
    }
   ],
   "source": [
    "data"
   ]
  },
  {
   "cell_type": "code",
   "execution_count": 4,
   "id": "4f6c9084-6544-45fa-b520-223d85866918",
   "metadata": {},
   "outputs": [],
   "source": [
    "normalized_data = (data - np.mean(data, axis=0)) / np.std(data, axis=0)"
   ]
  },
  {
   "cell_type": "code",
   "execution_count": 5,
   "id": "a1bb5bcb-05af-4118-ade7-188a11d7f221",
   "metadata": {},
   "outputs": [
    {
     "data": {
      "text/plain": [
       "array([[-0.39223227,  1.54348727, -0.5       ],\n",
       "       [-0.39223227, -1.02899151,  2.        ],\n",
       "       [ 0.58834841, -1.02899151, -0.5       ],\n",
       "       [ 1.56892908, -0.17149859, -0.5       ],\n",
       "       [-1.37281295,  0.68599434, -0.5       ]])"
      ]
     },
     "execution_count": 5,
     "metadata": {},
     "output_type": "execute_result"
    }
   ],
   "source": [
    "normalized_data"
   ]
  },
  {
   "cell_type": "code",
   "execution_count": 6,
   "id": "6e2c1db5-09ee-4f94-a770-042060da1886",
   "metadata": {},
   "outputs": [],
   "source": [
    "covariance_matrix = np.cov(normalized_data.T)"
   ]
  },
  {
   "cell_type": "code",
   "execution_count": 7,
   "id": "84c9a1ff-acd5-4884-bbf9-f1234d9c1403",
   "metadata": {},
   "outputs": [
    {
     "data": {
      "text/plain": [
       "array([[ 1.25      , -0.5045046 , -0.24514517],\n",
       "       [-0.5045046 ,  1.25      , -0.64311969],\n",
       "       [-0.24514517, -0.64311969,  1.25      ]])"
      ]
     },
     "execution_count": 7,
     "metadata": {},
     "output_type": "execute_result"
    }
   ],
   "source": [
    "covariance_matrix"
   ]
  },
  {
   "cell_type": "code",
   "execution_count": 8,
   "id": "e63ca715-771a-43d0-a1b0-76f411d26605",
   "metadata": {},
   "outputs": [],
   "source": [
    "eigenvalues, eigenvectors = np.linalg.eig(covariance_matrix)"
   ]
  },
  {
   "cell_type": "code",
   "execution_count": 10,
   "id": "2fd002d1-d1f4-43ef-8424-7d0c1d6f84eb",
   "metadata": {},
   "outputs": [
    {
     "data": {
      "text/plain": [
       "array([0.30329161, 1.48664467, 1.96006372])"
      ]
     },
     "execution_count": 10,
     "metadata": {},
     "output_type": "execute_result"
    }
   ],
   "source": [
    "eigenvalues"
   ]
  },
  {
   "cell_type": "code",
   "execution_count": 11,
   "id": "ae55c952-6b07-47d3-8d83-acc387f10692",
   "metadata": {},
   "outputs": [
    {
     "data": {
      "text/plain": [
       "array([[ 0.49616865,  0.79895088,  0.33984431],\n",
       "       [ 0.65306483, -0.08550098, -0.7524599 ],\n",
       "       [ 0.57212148, -0.59528738,  0.56418963]])"
      ]
     },
     "execution_count": 11,
     "metadata": {},
     "output_type": "execute_result"
    }
   ],
   "source": [
    "eigenvectors"
   ]
  },
  {
   "cell_type": "code",
   "execution_count": 12,
   "id": "6bf06a8b-b807-4bbf-8e24-e9a9c49a44fc",
   "metadata": {},
   "outputs": [],
   "source": [
    "sorted_indices = np.argsort(eigenvalues)[::-1]"
   ]
  },
  {
   "cell_type": "code",
   "execution_count": 15,
   "id": "9f2939c8-b380-43fd-b1cd-fd0b8e71ad5a",
   "metadata": {},
   "outputs": [
    {
     "data": {
      "text/plain": [
       "array([2, 1, 0], dtype=int64)"
      ]
     },
     "execution_count": 15,
     "metadata": {},
     "output_type": "execute_result"
    }
   ],
   "source": [
    "sorted_indices"
   ]
  },
  {
   "cell_type": "code",
   "execution_count": 16,
   "id": "7c852025-da38-48c8-93ff-0b56a89b0993",
   "metadata": {},
   "outputs": [],
   "source": [
    "sorted_eigenvalues = eigenvalues[sorted_indices]"
   ]
  },
  {
   "cell_type": "code",
   "execution_count": 17,
   "id": "ce7f4ec8-7543-419f-8e8c-d0bf62b4ca92",
   "metadata": {},
   "outputs": [
    {
     "data": {
      "text/plain": [
       "array([1.96006372, 1.48664467, 0.30329161])"
      ]
     },
     "execution_count": 17,
     "metadata": {},
     "output_type": "execute_result"
    }
   ],
   "source": [
    "sorted_eigenvalues"
   ]
  },
  {
   "cell_type": "code",
   "execution_count": 18,
   "id": "32b3faac-ab70-4494-a877-195e5bb65cac",
   "metadata": {},
   "outputs": [],
   "source": [
    "sorted_eigenvectors = eigenvectors[:, sorted_indices]"
   ]
  },
  {
   "cell_type": "code",
   "execution_count": 19,
   "id": "6cd1327f-8bb9-4642-bd9c-e9db425e7a74",
   "metadata": {},
   "outputs": [
    {
     "data": {
      "text/plain": [
       "array([[ 0.33984431,  0.79895088,  0.49616865],\n",
       "       [-0.7524599 , -0.08550098,  0.65306483],\n",
       "       [ 0.56418963, -0.59528738,  0.57212148]])"
      ]
     },
     "execution_count": 19,
     "metadata": {},
     "output_type": "execute_result"
    }
   ],
   "source": [
    "sorted_eigenvectors"
   ]
  },
  {
   "cell_type": "code",
   "execution_count": 20,
   "id": "486b3070-c841-4e0d-8d88-c77bd55aa7da",
   "metadata": {},
   "outputs": [],
   "source": [
    "k = 2\n",
    "selected_eigenvectors = sorted_eigenvectors[:, :k]"
   ]
  },
  {
   "cell_type": "code",
   "execution_count": 21,
   "id": "98930d5b-0629-4a4c-8f41-b44f86431ad4",
   "metadata": {},
   "outputs": [
    {
     "data": {
      "text/plain": [
       "array([[ 0.33984431,  0.79895088],\n",
       "       [-0.7524599 , -0.08550098],\n",
       "       [ 0.56418963, -0.59528738]])"
      ]
     },
     "execution_count": 21,
     "metadata": {},
     "output_type": "execute_result"
    }
   ],
   "source": [
    "selected_eigenvectors"
   ]
  },
  {
   "cell_type": "code",
   "execution_count": 22,
   "id": "f1abe152-e933-49df-bb4a-349de3d2719b",
   "metadata": {},
   "outputs": [],
   "source": [
    "transformed_data = np.dot(normalized_data, selected_eigenvectors)"
   ]
  },
  {
   "cell_type": "code",
   "execution_count": 23,
   "id": "6c03ec26-726d-406a-8cde-5a439a12f7a1",
   "metadata": {},
   "outputs": [
    {
     "data": {
      "text/plain": [
       "array([[-1.576805  , -0.1477003 ],\n",
       "       [ 1.76935621, -1.4159693 ],\n",
       "       [ 0.69212689,  0.85568495],\n",
       "       [ 0.38014261,  1.56580426],\n",
       "       [-1.26482072, -0.85781961]])"
      ]
     },
     "execution_count": 23,
     "metadata": {},
     "output_type": "execute_result"
    }
   ],
   "source": [
    "transformed_data"
   ]
  },
  {
   "cell_type": "code",
   "execution_count": 24,
   "id": "81c689be-809f-41f6-9d80-5371d4ba6b58",
   "metadata": {},
   "outputs": [
    {
     "data": {
      "image/png": "[encoded data removed]",
      "text/plain": [
       "<Figure size 640x480 with 1 Axes>"
      ]
     },
     "metadata": {},
     "output_type": "display_data"
    }
   ],
   "source": [
    "plt.scatter(transformed_data[:, 0], transformed_data[:, 1])\n",
    "plt.xlabel('Principal Component 1')\n",
    "plt.ylabel('Principal Component 2')\n",
    "plt.title('PCA Scatter Plot')\n",
    "plt.show()"
   ]
  },
  {
   "cell_type": "code",
   "execution_count": null,
   "id": "0caa8e9c-4c41-4362-beb2-5cab741b3e5c",
   "metadata": {},
   "outputs": [],
   "source": []
  }
 ],
 "metadata": {
  "kernelspec": {
   "display_name": "Python 3 (ipykernel)",
   "language": "python",
   "name": "python3"
  },
  "language_info": {
   "codemirror_mode": {
    "name": "ipython",
    "version": 3
   },
   "file_extension": ".py",
   "mimetype": "text/x-python",
   "name": "python",
   "nbconvert_exporter": "python",
   "pygments_lexer": "ipython3",
   "version": "3.11.4"
  }
 },
 "nbformat": 4,
 "nbformat_minor": 5
}
